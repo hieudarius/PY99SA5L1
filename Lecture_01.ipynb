{
 "cells": [
  {
   "cell_type": "code",
   "execution_count": null,
   "metadata": {},
   "outputs": [],
   "source": [
    "# Giới thiệu về môi trường cài đặt \n",
    "\n",
    "## 1. Github & Github Desktop\n",
    "\n",
    "**GitHub** là sự kết hợp giữa 2 từ:\n",
    "> **Git** – hệ thống quản lý dự án và phiên bản code.\n",
    "\n",
    "> **Hub** – nơi biến những dòng lệnh trên Git thành mạng xã hội cho lập trình viên.\n",
    "\n",
    "- Khi chúng ta tham gia các dự án công nghệ, ta thường làm việc theo nhóm. Github được sinh ra như một nơi lưu trữ các tài nguyên chung của nhóm, nơi quản lý các phiên bản giúp các thành viên trong nhóm có thể giám sát toàn bộ thay đổi của dự án, từ đó tăng sự hiệu quả làm việc. \n",
    "\n",
    "- Với những bạn mới bắt đầu tìm hiểu và chưa quen sử dụng những câu lệnh trên Terminal/Prompt máy tính, Github Desktop là một công cụ trực quan quản lý kho lưu trữ local, cũng như giải pháp giúp cho các bạn làm quen với Github dễ dàng hơn khi thực hiện các thao tác, dòng lệch Git cơ bản thông qua những button có thể dễ dàng click chuột trên giao diện.\n",
    "![](https://user-images.githubusercontent.com/359239/44031406-4c5ebaf0-9eda-11e8-826a-b0d4ab6fd98f.png)\n",
    "\n",
    "Tham khảo:\n",
    "- Github Desktop tại [đây](https://desktop.github.com/).\n",
    "- Sổ tay Git tại [đây](https://rogerdudler.github.io/git-guide/index.vi.html?fbclid=IwAR3obi7MWsbgXSiTUSg9QCzP7a8-vX7k9ASu8u5A-WuUVvP_eigo4E0hCbo).\n",
    "\n",
    "## 2. Anaconda & Jupyter\n",
    "\n",
    "### 2.1 **Anaconda**\n",
    "\n",
    "Tham khảo:\n",
    "- Tải Anaconda tại [đây](https://www.anaconda.com/products/individual).\n",
    "\n",
    "### 2.2 Jupyter\n",
    "\n",
    "- Là môi trường làm việc phổ biến nhất cho phân tích **Khoa học dữ liệu** bằng Python\n",
    "    > `Jupyter Notebook >> Jupyter Lab`\n",
    "\n",
    "- **Jupyter** cung cấp môi trường làm việc:\n",
    "    1. Đa ngôn ngữ \n",
    "    > `Jupyter  = Julia + Python + R`\n",
    "    2. Đa nền tảng: `Windows`,`Ubuntu`,`MacOS`\n",
    "    3. Nền web\n",
    "    4. Tích hợp hiển thị kết quả lập trình và trực quan hoá dữ liệu\n",
    "\n",
    "Lưu ý: file Python gốc sẽ có đuôi `.py`. và file jupyter sẽ có đuôi là `.ipynb`.\n",
    "\n",
    "- Để chạy final notebook, ta sử dụng câu lệnh `jupyter lab` hoặc `jupyter notebook`.\n",
    "\n",
    "### 2.3 Trình quản lý thử viện PIP\n",
    "\n",
    "- PIP `pip` viết tắt của `Package Installer for Python`, là trình quản lý giúp người dùng cài đặt, gỡ bỏ và cập nhật các gói thư viện trên Python. \n",
    "\n",
    "- Để cài đặt, ta sử dụng câu lệnh `pip install <tên_thư_viện> tử Anaconda Prompt` và `pip` sẽ tự động tải xuống và cài đặt theo yêu cầu của người dùng, ví dụ:\n",
    "\n",
    "```python\n",
    "!pip install scikit-learn\n",
    "```\n",
    "\n",
    "## 3. Google Colab (optional)\n",
    "- Môi trường `colab` là 1 nền tảng được cung cấp miễn phí bởi Google và chạy trên nền Jupyter, giúp người dùng có thể dễ dàng mở và chạy `Jupyter notebook` từ bất kỳ đâu mà không cần cài đặt bất kỳ thứ gì.\n",
    "\n",
    "- Truy cập `colab` tại địa chỉ https://colab.research.google.com/ và bắt đầu viết code.\n",
    "\n",
    "- Giao diện `colab` gần như giống y hệt với `Jupyter notebook`. Tuy nhiên tính năng thì vô vàn! Ví dụ khả năng kết nối tới Google Drive hay khả năng chia sẽ notebook ...\n",
    "\n",
    "**Lưu ý**: Tham khảo thêm tại [Zootopi](https://zootopi.dev/tutorial/python/jupyter)"
   ]
  },
  {
   "cell_type": "markdown",
   "metadata": {},
   "source": [
    "# What is a computer program?\n",
    "\n",
    "Chương trình là một chuỗi các hành động mà máy tính thực thi theo trình tự. Một chương trình có thể dài và phức tạp, nhưng sẽ được xây dựng từ các phần nhỏ đơn giản."
   ]
  },
  {
   "cell_type": "code",
   "execution_count": null,
   "metadata": {},
   "outputs": [],
   "source": [
    "# esc + A -> insert above\n",
    "# esc + B -> insert below\n",
    "# esc + DD -> delete\n",
    "# control + / -> cmt"
   ]
  },
  {
   "cell_type": "code",
   "execution_count": null,
   "metadata": {},
   "outputs": [],
   "source": [
    "# annvknvkenkwnekvnewklvnwk\n",
    "# esc M\n",
    "# shift + enter: run"
   ]
  },
  {
   "cell_type": "code",
   "execution_count": 1,
   "metadata": {},
   "outputs": [
    {
     "name": "stdout",
     "output_type": "stream",
     "text": [
      "Hello MCI\n"
     ]
    }
   ],
   "source": [
    "# Hello world\n",
    "print('Hello MCI')"
   ]
  },
  {
   "cell_type": "code",
   "execution_count": null,
   "metadata": {},
   "outputs": [],
   "source": [
    "1 + 1"
   ]
  },
  {
   "cell_type": "code",
   "execution_count": null,
   "metadata": {},
   "outputs": [],
   "source": [
    "# 1,2,3,4,5\n",
    "# maxx = 3\n",
    "\n",
    "# data nho\n",
    "# dat rất lớn => spark => pyspark"
   ]
  },
  {
   "cell_type": "code",
   "execution_count": null,
   "metadata": {},
   "outputs": [],
   "source": [
    "2 * 3.5"
   ]
  },
  {
   "cell_type": "markdown",
   "metadata": {},
   "source": [
    "# Basic structure of a Python program"
   ]
  },
  {
   "cell_type": "markdown",
   "metadata": {},
   "source": [
    "## 1. Operation"
   ]
  },
  {
   "cell_type": "code",
   "execution_count": 12,
   "metadata": {},
   "outputs": [
    {
     "data": {
      "text/plain": [
       "7"
      ]
     },
     "execution_count": 12,
     "metadata": {},
     "output_type": "execute_result"
    }
   ],
   "source": [
    "3 + 4"
   ]
  },
  {
   "cell_type": "code",
   "execution_count": 13,
   "metadata": {},
   "outputs": [
    {
     "data": {
      "text/plain": [
       "2"
      ]
     },
     "execution_count": 13,
     "metadata": {},
     "output_type": "execute_result"
    }
   ],
   "source": [
    "5 - 3"
   ]
  },
  {
   "cell_type": "code",
   "execution_count": 14,
   "metadata": {},
   "outputs": [
    {
     "data": {
      "text/plain": [
       "6"
      ]
     },
     "execution_count": 14,
     "metadata": {},
     "output_type": "execute_result"
    }
   ],
   "source": [
    "2 * 3"
   ]
  },
  {
   "cell_type": "code",
   "execution_count": 15,
   "metadata": {},
   "outputs": [
    {
     "data": {
      "text/plain": [
       "5.0"
      ]
     },
     "execution_count": 15,
     "metadata": {},
     "output_type": "execute_result"
    }
   ],
   "source": [
    "10 / 2"
   ]
  },
  {
   "cell_type": "code",
   "execution_count": 16,
   "metadata": {},
   "outputs": [
    {
     "data": {
      "text/plain": [
       "3"
      ]
     },
     "execution_count": 16,
     "metadata": {},
     "output_type": "execute_result"
    }
   ],
   "source": [
    "10 // 3"
   ]
  },
  {
   "cell_type": "code",
   "execution_count": 1,
   "metadata": {},
   "outputs": [
    {
     "data": {
      "text/plain": [
       "1"
      ]
     },
     "execution_count": 1,
     "metadata": {},
     "output_type": "execute_result"
    }
   ],
   "source": [
    "10 % 3"
   ]
  },
  {
   "cell_type": "code",
   "execution_count": 9,
   "metadata": {},
   "outputs": [
    {
     "data": {
      "text/plain": [
       "8"
      ]
     },
     "execution_count": 9,
     "metadata": {},
     "output_type": "execute_result"
    }
   ],
   "source": [
    "2 ** 3"
   ]
  },
  {
   "cell_type": "code",
   "execution_count": 17,
   "metadata": {},
   "outputs": [
    {
     "data": {
      "text/plain": [
       "True"
      ]
     },
     "execution_count": 17,
     "metadata": {},
     "output_type": "execute_result"
    }
   ],
   "source": [
    "a = 1\n",
    "a == 1"
   ]
  },
  {
   "cell_type": "code",
   "execution_count": 18,
   "metadata": {},
   "outputs": [
    {
     "data": {
      "text/plain": [
       "True"
      ]
     },
     "execution_count": 18,
     "metadata": {},
     "output_type": "execute_result"
    }
   ],
   "source": [
    "(1==1)|(2==3)"
   ]
  },
  {
   "cell_type": "code",
   "execution_count": null,
   "metadata": {},
   "outputs": [],
   "source": []
  },
  {
   "cell_type": "code",
   "execution_count": 19,
   "metadata": {},
   "outputs": [
    {
     "data": {
      "text/plain": [
       "False"
      ]
     },
     "execution_count": 19,
     "metadata": {},
     "output_type": "execute_result"
    }
   ],
   "source": [
    "(1==1) & (2==3)"
   ]
  },
  {
   "cell_type": "code",
   "execution_count": 20,
   "metadata": {},
   "outputs": [
    {
     "data": {
      "text/plain": [
       "True"
      ]
     },
     "execution_count": 20,
     "metadata": {},
     "output_type": "execute_result"
    }
   ],
   "source": [
    "1!=2\n",
    "\n",
    "# <> !="
   ]
  },
  {
   "cell_type": "code",
   "execution_count": 21,
   "metadata": {},
   "outputs": [
    {
     "data": {
      "text/plain": [
       "True"
      ]
     },
     "execution_count": 21,
     "metadata": {},
     "output_type": "execute_result"
    }
   ],
   "source": [
    "1 <= 1\n",
    "# (1<1)|(1==1)"
   ]
  },
  {
   "cell_type": "code",
   "execution_count": 22,
   "metadata": {},
   "outputs": [
    {
     "data": {
      "text/plain": [
       "True"
      ]
     },
     "execution_count": 22,
     "metadata": {},
     "output_type": "execute_result"
    }
   ],
   "source": [
    "a = 1\n",
    "b = 1\n",
    "a is b\n",
    "\n",
    "# 1 -> object\n",
    "# a , b -> object"
   ]
  },
  {
   "cell_type": "code",
   "execution_count": 8,
   "metadata": {},
   "outputs": [
    {
     "data": {
      "text/plain": [
       "True"
      ]
     },
     "execution_count": 8,
     "metadata": {},
     "output_type": "execute_result"
    }
   ],
   "source": [
    "a = 1\n",
    "b = 2\n",
    "a is not b"
   ]
  },
  {
   "cell_type": "code",
   "execution_count": 23,
   "metadata": {},
   "outputs": [
    {
     "data": {
      "text/plain": [
       "True"
      ]
     },
     "execution_count": 23,
     "metadata": {},
     "output_type": "execute_result"
    }
   ],
   "source": [
    "True or False"
   ]
  },
  {
   "cell_type": "code",
   "execution_count": 10,
   "metadata": {},
   "outputs": [
    {
     "data": {
      "text/plain": [
       "True"
      ]
     },
     "execution_count": 10,
     "metadata": {},
     "output_type": "execute_result"
    }
   ],
   "source": [
    "c = 1\n",
    "c == 1"
   ]
  },
  {
   "cell_type": "markdown",
   "metadata": {},
   "source": [
    "## 2. Commands in Python"
   ]
  },
  {
   "cell_type": "markdown",
   "metadata": {},
   "source": [
    "### 2.1. Output dùng print()"
   ]
  },
  {
   "cell_type": "code",
   "execution_count": null,
   "metadata": {},
   "outputs": [],
   "source": [
    "# In ra \"Hello World\""
   ]
  },
  {
   "cell_type": "code",
   "execution_count": 11,
   "metadata": {},
   "outputs": [
    {
     "name": "stdout",
     "output_type": "stream",
     "text": [
      "Welcome to MCI\n",
      "   Welcome to MCI\n"
     ]
    }
   ],
   "source": [
    "# Các ví dụ khác\n",
    "# Python sẽ in ra đúng như user chỉ định\n",
    "print(\"Welcome to MCI\")\n",
    "print(\"   Welcome to MCI\")"
   ]
  },
  {
   "cell_type": "code",
   "execution_count": null,
   "metadata": {},
   "outputs": [],
   "source": [
    "# In nhiều biến\n",
    "x = 5\n",
    "y = 7\n",
    "z = 9\n",
    "print(x, y, z)"
   ]
  },
  {
   "cell_type": "code",
   "execution_count": null,
   "metadata": {},
   "outputs": [],
   "source": [
    "# In formatted text: This is [Kim Jong Un]. He is [50] years old. He was born in [1972]\n"
   ]
  },
  {
   "cell_type": "code",
   "execution_count": null,
   "metadata": {},
   "outputs": [],
   "source": [
    "# exercise\n",
    "# Output: This is Hieu. Hieu was born in . He is __ years old\n"
   ]
  },
  {
   "cell_type": "code",
   "execution_count": 2,
   "metadata": {},
   "outputs": [
    {
     "name": "stdout",
     "output_type": "stream",
     "text": [
      "25\n"
     ]
    }
   ],
   "source": [
    "# In fomatted text với biến được sử dụng lại nhiều lần\n",
    "print(5 * 5)\n"
   ]
  },
  {
   "cell_type": "markdown",
   "metadata": {},
   "source": [
    "### 2.2 Biến (variables)"
   ]
  },
  {
   "cell_type": "code",
   "execution_count": 4,
   "metadata": {},
   "outputs": [
    {
     "name": "stdout",
     "output_type": "stream",
     "text": [
      "1 + 1 = 2\n",
      "All done!\n"
     ]
    },
    {
     "data": {
      "text/plain": [
       "2"
      ]
     },
     "execution_count": 4,
     "metadata": {},
     "output_type": "execute_result"
    }
   ],
   "source": [
    "print ('1 + 1 =', 1 + 1)\n",
    "# this is a comment, Python won't try to execute it\n",
    "print ('All done!')\n",
    "\n",
    "b = 1\n",
    "c = 1\n",
    "a = b + c\n",
    "a\n",
    "# print()\n",
    "# print()"
   ]
  },
  {
   "cell_type": "markdown",
   "metadata": {},
   "source": [
    "Thông thường chúng ta không muốn in trực tiếp kết quả mà muốn lưu chúng lại để sử dụng lại sau đó. Chúng ta có thể tạo một biến trong bộ nhớ máy để gán kết quả vào biến này"
   ]
  },
  {
   "cell_type": "code",
   "execution_count": 5,
   "metadata": {},
   "outputs": [
    {
     "name": "stdout",
     "output_type": "stream",
     "text": [
      "7.0\n"
     ]
    }
   ],
   "source": [
    "first_result = 1 + 1\n",
    "final_result = first_result * 3.5\n",
    "\n",
    "print (final_result)"
   ]
  },
  {
   "cell_type": "markdown",
   "metadata": {},
   "source": [
    "### 2.3 Nhận user input"
   ]
  },
  {
   "cell_type": "code",
   "execution_count": null,
   "metadata": {},
   "outputs": [],
   "source": [
    "# Yêu cầu người dùng nhập vào tên, lưu vào biến tên name\n",
    "# In ra Hello tên người dùng\n"
   ]
  },
  {
   "cell_type": "code",
   "execution_count": 10,
   "metadata": {},
   "outputs": [
    {
     "name": "stdin",
     "output_type": "stream",
     "text": [
      "Hay nhap vao tuoi cua ban:  30\n"
     ]
    },
    {
     "name": "stdout",
     "output_type": "stream",
     "text": [
      "30\n"
     ]
    }
   ],
   "source": [
    "age = input('Hay nhap vao tuoi cua ban: ')\n",
    "# age = float(age)\n",
    "age = int(age)\n",
    "\n",
    "# print(age)\n",
    "# print(type(age))\n",
    "\n",
    "# text\n",
    "print(age)"
   ]
  },
  {
   "cell_type": "markdown",
   "metadata": {},
   "source": [
    "## 3. Multiple statements per line"
   ]
  },
  {
   "cell_type": "code",
   "execution_count": 11,
   "metadata": {},
   "outputs": [
    {
     "name": "stdout",
     "output_type": "stream",
     "text": [
      "10\n",
      "20\n",
      "30\n"
     ]
    }
   ],
   "source": [
    "a = 10; b = 20; c = b + a \n",
    "  \n",
    "print(a); print(b); print(c)"
   ]
  },
  {
   "cell_type": "code",
   "execution_count": 12,
   "metadata": {},
   "outputs": [
    {
     "name": "stdout",
     "output_type": "stream",
     "text": [
      "10\n",
      "20\n",
      "30\n"
     ]
    }
   ],
   "source": [
    "a = 10\n",
    "b = 20\n",
    "c = b + a \n",
    "\n",
    "print(a)\n",
    "print(b)\n",
    "print(c)"
   ]
  },
  {
   "cell_type": "markdown",
   "metadata": {},
   "source": [
    "## 4. Write a statement in multiple lines"
   ]
  },
  {
   "cell_type": "code",
   "execution_count": null,
   "metadata": {},
   "outputs": [],
   "source": [
    "# Bad Practice as width of this code is too much.\n",
    " \n",
    "#code\n",
    "x = 10\n",
    "y = 20\n",
    "z = 30\n",
    "no_of_teachers = x\n",
    "no_of_male_students = y\n",
    "no_of_female_students = z\n",
    " \n",
    "if (no_of_teachers == 10 and no_of_female_students == 30 and no_of_male_students == 20 and (x + y) == 30):\n",
    "    print('The course is valid')\n",
    "\n",
    "# This could be done instead:\n",
    " \n",
    "if (no_of_teachers == 10 and no_of_female_students == 30\n",
    "    and no_of_male_students == 20 and x + y == 30):\n",
    "    print('The course is valid')"
   ]
  },
  {
   "cell_type": "code",
   "execution_count": null,
   "metadata": {},
   "outputs": [],
   "source": [
    "# The following code is valid \n",
    "a = [\n",
    "    [1, 2, 3],\n",
    "    [3, 4, 5], \n",
    "    [5, 6, 7]\n",
    "]\n",
    "  \n",
    "print(a)"
   ]
  },
  {
   "cell_type": "code",
   "execution_count": null,
   "metadata": {},
   "outputs": [],
   "source": [
    "# The following code is also valid \n",
    "  \n",
    "person_1 = 18\n",
    "person_2 = 20\n",
    "person_3 = 12\n",
    "  \n",
    "if ( \n",
    "    person_1 >= 18 and\n",
    "   person_2 >= 18 and\n",
    "   person_3 < 18\n",
    "   ): \n",
    "    print('2 Persons should have ID Cards') "
   ]
  },
  {
   "cell_type": "code",
   "execution_count": null,
   "metadata": {},
   "outputs": [],
   "source": [
    "x = 1 + 2 \\\n",
    "    + 5 + 6 \\\n",
    "    + 10\n",
    "  \n",
    "print(x)"
   ]
  },
  {
   "cell_type": "markdown",
   "metadata": {},
   "source": [
    "## 5. Comment in Python"
   ]
  },
  {
   "cell_type": "code",
   "execution_count": null,
   "metadata": {},
   "outputs": [],
   "source": [
    " # This example will print Hello World print('Hello World')  # This is a comment Ctrl  + /"
   ]
  },
  {
   "cell_type": "code",
   "execution_count": null,
   "metadata": {},
   "outputs": [],
   "source": [
    "\"\"\" This example will demonstrate  \n",
    "    multiple comments \"\"\"\n",
    "'''\n",
    "nwkjvbjwebv\n",
    "wenvkrevr\n",
    "'''\n",
    "  \n",
    "\"\"\" The following \n",
    "    a variable contains the  \n",
    "    string 'How old are you?' \n",
    "\"\"\"\n",
    "a = 'How old are you?'\n",
    "  \n",
    "\"\"\" The following statement prints \n",
    "    what's inside the variable a  \n",
    "\"\"\"\n",
    "print(a) "
   ]
  },
  {
   "cell_type": "code",
   "execution_count": null,
   "metadata": {},
   "outputs": [],
   "source": [
    "'''\n",
    "The following statement prints \n",
    "what's inside the variable a\n",
    "'''"
   ]
  },
  {
   "cell_type": "markdown",
   "metadata": {},
   "source": [
    "## 6. Whitespace"
   ]
  },
  {
   "cell_type": "code",
   "execution_count": null,
   "metadata": {},
   "outputs": [],
   "source": [
    "# This is correct but whitespace can improve readability \n",
    "  \n",
    "a = 2 - 1  # Better way is a = 2 - 1 \n",
    "  \n",
    "print(a) "
   ]
  },
  {
   "cell_type": "code",
   "execution_count": null,
   "metadata": {},
   "outputs": [],
   "source": []
  },
  {
   "cell_type": "code",
   "execution_count": null,
   "metadata": {},
   "outputs": [],
   "source": [
    "x = 10\n",
    "  \n",
    "while(x != 0):\n",
    "    if(x > 5):   # Line 1 \n",
    "        print('x > 5')  # Line 2 \n",
    "    else:        # Line 3 \n",
    "        print('x < 5') # Line 4 \n",
    "    x -= 2       # Line 5\n",
    "  \n",
    "\"\"\" \n",
    "Lines 1, 3, 5 are on same level \n",
    "Line 2 will only be executed if if condition becomes true. \n",
    "Line 4 will only be executed if if condition becomes false. \n",
    "\"\"\""
   ]
  },
  {
   "cell_type": "markdown",
   "metadata": {},
   "source": [
    "# Data type"
   ]
  },
  {
   "cell_type": "markdown",
   "metadata": {},
   "source": [
    "## Kiểu bool"
   ]
  },
  {
   "cell_type": "code",
   "execution_count": 13,
   "metadata": {},
   "outputs": [
    {
     "name": "stdout",
     "output_type": "stream",
     "text": [
      "True\n"
     ]
    },
    {
     "data": {
      "text/plain": [
       "bool"
      ]
     },
     "execution_count": 13,
     "metadata": {},
     "output_type": "execute_result"
    }
   ],
   "source": [
    "# Gán True, False\n",
    "x = True\n",
    "print(x)\n",
    "type(x)"
   ]
  },
  {
   "cell_type": "code",
   "execution_count": 14,
   "metadata": {},
   "outputs": [
    {
     "name": "stdout",
     "output_type": "stream",
     "text": [
      "True\n"
     ]
    }
   ],
   "source": [
    "# Biểu thức so sánh >\n",
    "x = 10 > 2\n",
    "print(x)"
   ]
  },
  {
   "cell_type": "code",
   "execution_count": 15,
   "metadata": {},
   "outputs": [
    {
     "name": "stdout",
     "output_type": "stream",
     "text": [
      "False\n"
     ]
    }
   ],
   "source": [
    "# Biểu thức so sánh ==\n",
    "x = (10 == 5)\n",
    "print(x)"
   ]
  },
  {
   "cell_type": "markdown",
   "metadata": {},
   "source": [
    "## Kiểu int"
   ]
  },
  {
   "cell_type": "code",
   "execution_count": 16,
   "metadata": {},
   "outputs": [
    {
     "data": {
      "text/plain": [
       "int"
      ]
     },
     "execution_count": 16,
     "metadata": {},
     "output_type": "execute_result"
    }
   ],
   "source": [
    "# Phép gán số nguyên\n",
    "x = 100\n",
    "type(x)"
   ]
  },
  {
   "cell_type": "code",
   "execution_count": 17,
   "metadata": {},
   "outputs": [
    {
     "name": "stdout",
     "output_type": "stream",
     "text": [
      "-12323\n"
     ]
    },
    {
     "data": {
      "text/plain": [
       "int"
      ]
     },
     "execution_count": 17,
     "metadata": {},
     "output_type": "execute_result"
    }
   ],
   "source": [
    "# Số âm\n",
    "x = -12323\n",
    "print(x)\n",
    "type(x)"
   ]
  },
  {
   "cell_type": "code",
   "execution_count": 18,
   "metadata": {},
   "outputs": [
    {
     "name": "stdout",
     "output_type": "stream",
     "text": [
      "105\n"
     ]
    },
    {
     "data": {
      "text/plain": [
       "int"
      ]
     },
     "execution_count": 18,
     "metadata": {},
     "output_type": "execute_result"
    }
   ],
   "source": [
    "# Phép gán biểu thức mà kết quả trả về là số nguyên (1)\n",
    "x = 100 + 5\n",
    "print(x)\n",
    "type(x)"
   ]
  },
  {
   "cell_type": "code",
   "execution_count": 19,
   "metadata": {},
   "outputs": [
    {
     "name": "stdout",
     "output_type": "stream",
     "text": [
      "50\n",
      "1\n",
      "<class 'int'>\n",
      "<class 'int'>\n"
     ]
    }
   ],
   "source": [
    "# Phép gán biểu thức mà kết quả trả về là số nguyên (2)\n",
    "x = 100 // 2\n",
    "y = 99 % 2\n",
    "\n",
    "print(x)\n",
    "print(y)\n",
    "\n",
    "print(type(x))\n",
    "print(type(y))"
   ]
  },
  {
   "cell_type": "code",
   "execution_count": 20,
   "metadata": {},
   "outputs": [
    {
     "name": "stdout",
     "output_type": "stream",
     "text": [
      "1\n",
      "0\n"
     ]
    }
   ],
   "source": [
    "# True ứng với 1, False ứng với 0\n",
    "print(int(True))\n",
    "print(int(False))"
   ]
  },
  {
   "cell_type": "code",
   "execution_count": 4,
   "metadata": {},
   "outputs": [
    {
     "name": "stdout",
     "output_type": "stream",
     "text": [
      "10.67\n"
     ]
    }
   ],
   "source": [
    "# Số thực bị cắt phần thập phân\n",
    "# print(int(10.99))\n",
    "print(round(10.6666,2))"
   ]
  },
  {
   "cell_type": "code",
   "execution_count": 32,
   "metadata": {},
   "outputs": [
    {
     "name": "stdout",
     "output_type": "stream",
     "text": [
      "10\n",
      "10\n",
      "10\n",
      "-10\n"
     ]
    }
   ],
   "source": [
    "# Ép từ string, khoảng trắng sẽ được trimmed\n",
    "print(int(\"10\"))\n",
    "print(int(\" 10\"))\n",
    "print(int(\"10   \"))\n",
    "print(int(\" -10\"))"
   ]
  },
  {
   "cell_type": "markdown",
   "metadata": {},
   "source": [
    "## Kiểu float"
   ]
  },
  {
   "cell_type": "code",
   "execution_count": 33,
   "metadata": {},
   "outputs": [
    {
     "data": {
      "text/plain": [
       "float"
      ]
     },
     "execution_count": 33,
     "metadata": {},
     "output_type": "execute_result"
    }
   ],
   "source": [
    "# Phép gán số thực\n",
    "x = 100.0\n",
    "type(x)"
   ]
  },
  {
   "cell_type": "code",
   "execution_count": 34,
   "metadata": {},
   "outputs": [
    {
     "name": "stdout",
     "output_type": "stream",
     "text": [
      "-12323.0\n"
     ]
    },
    {
     "data": {
      "text/plain": [
       "float"
      ]
     },
     "execution_count": 34,
     "metadata": {},
     "output_type": "execute_result"
    }
   ],
   "source": [
    "# Số âm\n",
    "x = -12323.\n",
    "print(x)\n",
    "type(x)"
   ]
  },
  {
   "cell_type": "code",
   "execution_count": 35,
   "metadata": {},
   "outputs": [
    {
     "name": "stdout",
     "output_type": "stream",
     "text": [
      "20.0\n"
     ]
    },
    {
     "data": {
      "text/plain": [
       "float"
      ]
     },
     "execution_count": 35,
     "metadata": {},
     "output_type": "execute_result"
    }
   ],
   "source": [
    "# Phép gán biểu thức mà kết quả trả về là số nguyên (1)\n",
    "x = 100 / 5\n",
    "print(x)\n",
    "type(x)"
   ]
  },
  {
   "cell_type": "code",
   "execution_count": null,
   "metadata": {},
   "outputs": [],
   "source": []
  },
  {
   "cell_type": "code",
   "execution_count": 36,
   "metadata": {},
   "outputs": [
    {
     "name": "stdout",
     "output_type": "stream",
     "text": [
      "2.0\n"
     ]
    }
   ],
   "source": [
    "print(6/3)"
   ]
  },
  {
   "cell_type": "code",
   "execution_count": 37,
   "metadata": {},
   "outputs": [
    {
     "name": "stdout",
     "output_type": "stream",
     "text": [
      "1.0\n",
      "0.0\n"
     ]
    }
   ],
   "source": [
    "# Từ bool: True ứng với 1.0, False ứng với 0.0\n",
    "print(float(True))\n",
    "print(float(False))"
   ]
  },
  {
   "cell_type": "code",
   "execution_count": null,
   "metadata": {},
   "outputs": [],
   "source": [
    "# Từ int\n",
    "print(float(10))"
   ]
  },
  {
   "cell_type": "code",
   "execution_count": 38,
   "metadata": {},
   "outputs": [
    {
     "name": "stdout",
     "output_type": "stream",
     "text": [
      "10.0\n",
      "10.0\n",
      "10.0\n",
      "-10.0\n"
     ]
    }
   ],
   "source": [
    "# Từ string, khoảng trắng sẽ được trimmed\n",
    "print(float(\"10.0\"))\n",
    "print(float(\" 10.\"))\n",
    "print(float(\"10.   \"))\n",
    "print(float(\"-10.   \"))"
   ]
  },
  {
   "cell_type": "markdown",
   "metadata": {},
   "source": [
    "# Exercise"
   ]
  },
  {
   "cell_type": "code",
   "execution_count": 39,
   "metadata": {},
   "outputs": [
    {
     "name": "stdin",
     "output_type": "stream",
     "text": [
      "Hay nhap vao so thu nhat:  10\n",
      "Hay nhap vao so thu hai:  20\n"
     ]
    },
    {
     "name": "stdout",
     "output_type": "stream",
     "text": [
      "Ket qua la:  200.0\n"
     ]
    }
   ],
   "source": [
    "# (1) Calculate the multiplication and sum of two numbers\n",
    "# a = 5\n",
    "# b = 10\n",
    "no1 = input('Hay nhap vao so thu nhat: ')\n",
    "no1 = float(no1)\n",
    "\n",
    "no2 = input('Hay nhap vao so thu hai: ')\n",
    "no2 = float(no2)\n",
    "\n",
    "print('Ket qua la: ',round(no1 * no2,2) )"
   ]
  },
  {
   "cell_type": "code",
   "execution_count": null,
   "metadata": {},
   "outputs": [],
   "source": []
  },
  {
   "cell_type": "code",
   "execution_count": null,
   "metadata": {},
   "outputs": [],
   "source": [
    "# Display three string 'Name', 'Is', 'James' as “Name**Is**James”\n"
   ]
  },
  {
   "cell_type": "code",
   "execution_count": 41,
   "metadata": {
    "editable": true,
    "slideshow": {
     "slide_type": ""
    },
    "tags": []
   },
   "outputs": [
    {
     "name": "stdout",
     "output_type": "stream",
     "text": [
      "99.99\n"
     ]
    }
   ],
   "source": [
    "# (2) Display float number with 2 decimal places using print()\n",
    "print(float('99.99'))"
   ]
  },
  {
   "cell_type": "code",
   "execution_count": 42,
   "metadata": {},
   "outputs": [
    {
     "name": "stdin",
     "output_type": "stream",
     "text": [
      "Hay nhap vao so dau tien:  2\n",
      "Hay nhap vao so thu hai:  4\n"
     ]
    },
    {
     "data": {
      "text/plain": [
       "8"
      ]
     },
     "execution_count": 42,
     "metadata": {},
     "output_type": "execute_result"
    }
   ],
   "source": [
    "# (3) Write a program to accept two numbers from the user and calculate multiplication\n",
    "a = int(input('Hay nhap vao so dau tien: '))\n",
    "b = int(input('Hay nhap vao so thu hai: '))\n",
    "c = a * b\n",
    "c"
   ]
  },
  {
   "cell_type": "code",
   "execution_count": null,
   "metadata": {},
   "outputs": [],
   "source": [
    "# input:\n",
    "# totalMoney = 900\n",
    "# quantity = \n",
    "# price = 450\n",
    "\n",
    "# output:\n",
    "# I have 900 dollars so I can buy 2 balls for 450 dollars.\n",
    "\n",
    "\n"
   ]
  },
  {
   "cell_type": "code",
   "execution_count": null,
   "metadata": {},
   "outputs": [],
   "source": []
  },
  {
   "cell_type": "code",
   "execution_count": null,
   "metadata": {},
   "outputs": [],
   "source": [
    "totalMoney = int(input('Nhap tong tien: '))\n",
    "price = int(input('Nhap don gia: '))\n",
    "print('I have {} dollars so I can buy {} balls for {} dollars'.format(totalMoney,round(totalMoney/price,2),price))"
   ]
  }
 ],
 "metadata": {
  "kernelspec": {
   "display_name": "Python 3 (ipykernel)",
   "language": "python",
   "name": "python3"
  },
  "language_info": {
   "codemirror_mode": {
    "name": "ipython",
    "version": 3
   },
   "file_extension": ".py",
   "mimetype": "text/x-python",
   "name": "python",
   "nbconvert_exporter": "python",
   "pygments_lexer": "ipython3",
   "version": "3.11.7"
  },
  "toc": {
   "base_numbering": 1,
   "nav_menu": {},
   "number_sections": true,
   "sideBar": true,
   "skip_h1_title": false,
   "title_cell": "Table of Contents",
   "title_sidebar": "Contents",
   "toc_cell": false,
   "toc_position": {},
   "toc_section_display": true,
   "toc_window_display": true
  },
  "toc-autonumbering": true,
  "toc-showcode": false,
  "toc-showmarkdowntxt": false
 },
 "nbformat": 4,
 "nbformat_minor": 4
}
